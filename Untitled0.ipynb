{
  "nbformat": 4,
  "nbformat_minor": 0,
  "metadata": {
    "colab": {
      "name": "Untitled0.ipynb",
      "provenance": [],
      "authorship_tag": "ABX9TyNTgLG+gAwYvFre7J6NrDaz",
      "include_colab_link": true
    },
    "kernelspec": {
      "name": "python3",
      "display_name": "Python 3"
    },
    "language_info": {
      "name": "python"
    }
  },
  "cells": [
    {
      "cell_type": "markdown",
      "metadata": {
        "id": "view-in-github",
        "colab_type": "text"
      },
      "source": [
        "<a href=\"https://colab.research.google.com/github/ForgottenProject/README/blob/main/Untitled0.ipynb\" target=\"_parent\"><img src=\"https://colab.research.google.com/assets/colab-badge.svg\" alt=\"Open In Colab\"/></a>"
      ]
    },
    {
      "cell_type": "code",
      "execution_count": null,
      "metadata": {
        "id": "c_Tw_I78gKIL"
      },
      "outputs": [],
      "source": [
        "numero_inicial = int(input(\"Ingrese un numero cual sea: \"))\n",
        "sumatoria = 0\n",
        "for numero in range(numero_inicial):\n",
        "    sumatoria = sumatoria + (numero + 1)\n",
        "\n",
        "\n",
        "print(\"La sumatoria de los numeros desde el numero inicial hasta el numero final es: \",sumatoria)"
      ]
    }
  ]
}